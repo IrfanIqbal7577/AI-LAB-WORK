{
 "cells": [
  {
   "cell_type": "code",
   "execution_count": 1,
   "metadata": {},
   "outputs": [],
   "source": [
    "d = {'s':[('a',3),('b',2),('c',4)],     \n",
    "    'a':[('d',1)],\n",
    "    'b':[('e',8),('f',7),('d',1)],\n",
    "    'c':[('e',1),('j',3)],\n",
    "    'd':[('f',1),('h',1)],\n",
    "    'e':[('g',1)],\n",
    "    'f':[('g',5)],\n",
    "    'h':[('g',1),('f',3)],\n",
    "    'j':[('e',2)],\n",
    "    'g':[]}"
   ]
  },
  {
   "cell_type": "code",
   "execution_count": 7,
   "metadata": {},
   "outputs": [
    {
     "data": {
      "text/plain": [
       "[('a', 3), ('b', 2), ('c', 4)]"
      ]
     },
     "execution_count": 7,
     "metadata": {},
     "output_type": "execute_result"
    }
   ],
   "source": [
    "d.get('s')"
   ]
  },
  {
   "cell_type": "code",
   "execution_count": null,
   "metadata": {},
   "outputs": [],
   "source": []
  },
  {
   "cell_type": "code",
   "execution_count": null,
   "metadata": {},
   "outputs": [],
   "source": []
  },
  {
   "cell_type": "code",
   "execution_count": 3,
   "metadata": {},
   "outputs": [
    {
     "data": {
      "text/plain": [
       "[('a', '2'), ('b', '2'), ('c', '4')]"
      ]
     },
     "execution_count": 3,
     "metadata": {},
     "output_type": "execute_result"
    }
   ],
   "source": [
    "[tuple(i.split('-')) for i in 'a-2,b-2,c-4'.split(',')]"
   ]
  },
  {
   "cell_type": "code",
   "execution_count": 14,
   "metadata": {},
   "outputs": [
    {
     "data": {
      "text/plain": [
       "{'a': 3, 'b': 2, 'c': 4, 'e': 1}"
      ]
     },
     "execution_count": 14,
     "metadata": {},
     "output_type": "execute_result"
    }
   ],
   "source": [
    "z= dict()\n",
    "for i in lis:    \n",
    "    z[i[0]] = i[1]\n",
    "z"
   ]
  },
  {
   "cell_type": "code",
   "execution_count": 16,
   "metadata": {},
   "outputs": [
    {
     "data": {
      "text/plain": [
       "True"
      ]
     },
     "execution_count": 16,
     "metadata": {},
     "output_type": "execute_result"
    }
   ],
   "source": [
    "'b' in z"
   ]
  },
  {
   "cell_type": "code",
   "execution_count": null,
   "metadata": {},
   "outputs": [],
   "source": []
  },
  {
   "cell_type": "code",
   "execution_count": 65,
   "metadata": {},
   "outputs": [
    {
     "data": {
      "text/plain": [
       "{'a': 3, 'f': 4, 'c': 4, 'e': 1}"
      ]
     },
     "execution_count": 65,
     "metadata": {},
     "output_type": "execute_result"
    }
   ],
   "source": [
    "def myy(li):\n",
    "    z= dict()\n",
    "    for i in li:\n",
    "        z[i[0]] = i[1]\n",
    "    return z\n",
    "        \n",
    "'a' in myy(lis)\n",
    "\n",
    "\n",
    "\n",
    "def myy2(li):\n",
    "    \n",
    "    return {i[0]:i[1] for i in lis}\n",
    "\n",
    "myy2(lis)"
   ]
  },
  {
   "cell_type": "code",
   "execution_count": 8,
   "metadata": {},
   "outputs": [
    {
     "data": {
      "text/plain": [
       "True"
      ]
     },
     "execution_count": 8,
     "metadata": {},
     "output_type": "execute_result"
    }
   ],
   "source": [
    "a = [1,2,3,4]\n",
    "\n",
    "3 in a"
   ]
  },
  {
   "cell_type": "code",
   "execution_count": 23,
   "metadata": {},
   "outputs": [
    {
     "name": "stdout",
     "output_type": "stream",
     "text": [
      "('a', 3)\n",
      "('f', 4)\n",
      "('c', 4)\n",
      "('e', 1)\n"
     ]
    },
    {
     "data": {
      "text/plain": [
       "{'a': 3, 'f': 4, 'c': 4, 'e': 1}"
      ]
     },
     "execution_count": 23,
     "metadata": {},
     "output_type": "execute_result"
    }
   ],
   "source": [
    "z= dict()\n",
    "for i in lis:    \n",
    "    print(i)\n",
    "    z[i[0]] = i[1]\n",
    "z"
   ]
  },
  {
   "cell_type": "code",
   "execution_count": 24,
   "metadata": {},
   "outputs": [
    {
     "data": {
      "text/plain": [
       "True"
      ]
     },
     "execution_count": 24,
     "metadata": {},
     "output_type": "execute_result"
    }
   ],
   "source": [
    "'f' in z"
   ]
  },
  {
   "cell_type": "code",
   "execution_count": 18,
   "metadata": {},
   "outputs": [
    {
     "name": "stdout",
     "output_type": "stream",
     "text": [
      "('f', 9)\n",
      "replace\n",
      "1\n"
     ]
    }
   ],
   "source": [
    "lis = [('a',3),('f',9),('c',4),('e',1)]\n",
    "a = ('f',4)\n",
    "\n",
    "\n",
    "\n",
    "for i in lis:\n",
    "    \n",
    "    \n",
    "    if i[0] == a[0]:\n",
    "        print(i)\n",
    "        \n",
    "        if i[1] > a[1]:\n",
    "            print('replace')\n",
    "            ind = lis.index(i)\n",
    "            print(ind)\n",
    "            lis[ind] = a"
   ]
  },
  {
   "cell_type": "code",
   "execution_count": 19,
   "metadata": {},
   "outputs": [
    {
     "data": {
      "text/plain": [
       "[('a', 3), ('f', 4), ('c', 4), ('e', 1)]"
      ]
     },
     "execution_count": 19,
     "metadata": {},
     "output_type": "execute_result"
    }
   ],
   "source": [
    "lis"
   ]
  },
  {
   "cell_type": "code",
   "execution_count": 4,
   "metadata": {},
   "outputs": [
    {
     "data": {
      "text/plain": [
       "False"
      ]
     },
     "execution_count": 4,
     "metadata": {},
     "output_type": "execute_result"
    }
   ],
   "source": [
    "a in lis"
   ]
  },
  {
   "cell_type": "code",
   "execution_count": 11,
   "metadata": {},
   "outputs": [
    {
     "name": "stdout",
     "output_type": "stream",
     "text": [
      "('b', 2)\n"
     ]
    }
   ],
   "source": [
    "for i in lis:\n",
    "    \n",
    "    if i[0] == a[0]:\n",
    "        print(i)\n",
    "        \n",
    "        if i[1] > a[1]:\n",
    "            print"
   ]
  },
  {
   "cell_type": "code",
   "execution_count": 16,
   "metadata": {},
   "outputs": [
    {
     "name": "stdout",
     "output_type": "stream",
     "text": [
      "b 2\n"
     ]
    }
   ],
   "source": [
    "lis = [('a',3),('b',2),('c',4),('e',1)]\n",
    "a = ('b',1)\n",
    "\n",
    "\n",
    "for i,j in enumeratelis:\n",
    "    if i == a[0]:\n",
    "        print(i,j)\n",
    "        \n",
    "        if i < a[1]"
   ]
  },
  {
   "cell_type": "code",
   "execution_count": 25,
   "metadata": {},
   "outputs": [
    {
     "data": {
      "text/plain": [
       "[('a', 3), ('f', 4), ('c', 4), ('e', 1)]"
      ]
     },
     "execution_count": 25,
     "metadata": {},
     "output_type": "execute_result"
    }
   ],
   "source": [
    "lis"
   ]
  },
  {
   "cell_type": "code",
   "execution_count": 29,
   "metadata": {},
   "outputs": [
    {
     "data": {
      "text/plain": [
       "[('e', 1), ('a', 3), ('f', 4), ('c', 4)]"
      ]
     },
     "execution_count": 29,
     "metadata": {},
     "output_type": "execute_result"
    }
   ],
   "source": [
    "sorted(lis , key= my )"
   ]
  },
  {
   "cell_type": "code",
   "execution_count": null,
   "metadata": {},
   "outputs": [],
   "source": []
  },
  {
   "cell_type": "code",
   "execution_count": 35,
   "metadata": {},
   "outputs": [],
   "source": [
    "def my(x):\n",
    "    return x[1]"
   ]
  },
  {
   "cell_type": "code",
   "execution_count": 33,
   "metadata": {},
   "outputs": [],
   "source": [
    "li = [('e', 1, 12), ('c', 4, 36),('b', 2, 1), ('a', 3, 25)]"
   ]
  },
  {
   "cell_type": "code",
   "execution_count": 34,
   "metadata": {},
   "outputs": [
    {
     "data": {
      "text/plain": [
       "[('b', 2, 1), ('e', 1, 12), ('a', 3, 25), ('c', 4, 36)]"
      ]
     },
     "execution_count": 34,
     "metadata": {},
     "output_type": "execute_result"
    }
   ],
   "source": [
    "sorted(li, key =my )"
   ]
  },
  {
   "cell_type": "code",
   "execution_count": 13,
   "metadata": {},
   "outputs": [
    {
     "data": {
      "text/plain": [
       "[('e', 1, 12), ('b', 2, 1), ('a', 3, 25), ('c', 4, 36)]"
      ]
     },
     "execution_count": 13,
     "metadata": {},
     "output_type": "execute_result"
    }
   ],
   "source": [
    "sorted(lis, key = lambda x: x[1] )"
   ]
  },
  {
   "cell_type": "code",
   "execution_count": null,
   "metadata": {},
   "outputs": [],
   "source": []
  },
  {
   "cell_type": "code",
   "execution_count": 68,
   "metadata": {},
   "outputs": [
    {
     "name": "stdout",
     "output_type": "stream",
     "text": [
      "Q: before -->  [('s', 0)]\n",
      "POP:  ('s', 0)\n",
      "Q: now -->  []\n",
      "EXPLORED:  ['s']\n",
      "[('a', 3), ('b', 2), ('c', 4)]\n",
      " 0 + 3 = 3\n",
      "OLD:  ('a', 3) NEW:  ('a', 3)\n",
      " 0 + 2 = 2\n",
      "OLD:  ('b', 2) NEW:  ('b', 2)\n",
      " 0 + 4 = 4\n",
      "OLD:  ('c', 4) NEW:  ('c', 4)\n",
      "Q Final -->>  [('b', 2), ('a', 3), ('c', 4)]\n",
      "********************************************************************************\n",
      "Q: before -->  [('b', 2), ('a', 3), ('c', 4)]\n",
      "POP:  ('b', 2)\n",
      "Q: now -->  [('a', 3), ('c', 4)]\n",
      "EXPLORED:  ['s', 'b']\n",
      "[('e', 8), ('f', 7), ('d', 1)]\n",
      " 2 + 8 = 10\n",
      "OLD:  ('e', 8) NEW:  ('e', 10)\n",
      " 2 + 7 = 9\n",
      "OLD:  ('f', 7) NEW:  ('f', 9)\n",
      " 2 + 1 = 3\n",
      "OLD:  ('d', 1) NEW:  ('d', 3)\n",
      "Q Final -->>  [('a', 3), ('d', 3), ('c', 4), ('f', 9), ('e', 10)]\n",
      "********************************************************************************\n",
      "Q: before -->  [('a', 3), ('d', 3), ('c', 4), ('f', 9), ('e', 10)]\n",
      "POP:  ('a', 3)\n",
      "Q: now -->  [('d', 3), ('c', 4), ('f', 9), ('e', 10)]\n",
      "EXPLORED:  ['s', 'b', 'a']\n",
      "[('d', 1)]\n",
      " 3 + 1 = 4\n",
      "OLD:  ('d', 1) NEW:  ('d', 4)\n",
      "Q Final -->>  [('d', 3), ('c', 4), ('f', 9), ('e', 10)]\n",
      "********************************************************************************\n",
      "Q: before -->  [('d', 3), ('c', 4), ('f', 9), ('e', 10)]\n",
      "POP:  ('d', 3)\n",
      "Q: now -->  [('c', 4), ('f', 9), ('e', 10)]\n",
      "EXPLORED:  ['s', 'b', 'a', 'd']\n",
      "[('f', 1), ('h', 1)]\n",
      " 3 + 1 = 4\n",
      "OLD:  ('f', 1) NEW:  ('f', 4)\n",
      " 3 + 1 = 4\n",
      "OLD:  ('h', 1) NEW:  ('h', 4)\n",
      "Q Final -->>  [('c', 4), ('h', 4), ('f', 9), ('e', 10)]\n",
      "********************************************************************************\n",
      "Q: before -->  [('c', 4), ('h', 4), ('f', 9), ('e', 10)]\n",
      "POP:  ('c', 4)\n",
      "Q: now -->  [('h', 4), ('f', 9), ('e', 10)]\n",
      "EXPLORED:  ['s', 'b', 'a', 'd', 'c']\n",
      "[('e', 1), ('j', 3)]\n",
      " 4 + 1 = 5\n",
      "OLD:  ('e', 1) NEW:  ('e', 5)\n",
      " 4 + 3 = 7\n",
      "OLD:  ('j', 3) NEW:  ('j', 7)\n",
      "Q Final -->>  [('h', 4), ('j', 7), ('f', 9), ('e', 10)]\n",
      "********************************************************************************\n",
      "Q: before -->  [('h', 4), ('j', 7), ('f', 9), ('e', 10)]\n",
      "POP:  ('h', 4)\n",
      "Q: now -->  [('j', 7), ('f', 9), ('e', 10)]\n",
      "EXPLORED:  ['s', 'b', 'a', 'd', 'c', 'h']\n",
      "[('g', 1), ('f', 3)]\n",
      " 4 + 1 = 5\n",
      "OLD:  ('g', 1) NEW:  ('g', 5)\n",
      " 4 + 3 = 7\n",
      "OLD:  ('f', 3) NEW:  ('f', 7)\n",
      "Q Final -->>  [('g', 5), ('j', 7), ('f', 9), ('e', 10)]\n",
      "********************************************************************************\n",
      "Q: before -->  [('g', 5), ('j', 7), ('f', 9), ('e', 10)]\n",
      "POP:  ('g', 5)\n",
      "Q: now -->  [('j', 7), ('f', 9), ('e', 10)]\n",
      "EXPLORED:  ['s', 'b', 'a', 'd', 'c', 'h', 'g']\n",
      "Result:  ['s', 'b', 'a', 'd', 'c', 'h', 'g']\n"
     ]
    }
   ],
   "source": [
    "goal = 'g'\n",
    "q = []\n",
    "q.append(('s',0))\n",
    "explored = []\n",
    "\n",
    "while len(q)> 0:\n",
    "    \n",
    "    print('Q: before --> ',q)\n",
    "    node = q.pop(0)\n",
    "    \n",
    "    print('POP: ',node)\n",
    "    print('Q: now --> ',q)\n",
    "    \n",
    "    if node[0] not in explored:\n",
    "        explored.append(node[0])\n",
    "    \n",
    "    print('EXPLORED: ',explored)\n",
    "    \n",
    "    if goal == node[0]:\n",
    "        print('Result: ',explored)\n",
    "        break\n",
    "        \n",
    "    child = d.get(node[0])\n",
    "    print(child)\n",
    "    \n",
    "    for i in child:\n",
    "        \n",
    "        newCost = node[1]+ i[1] \n",
    "        new = (i[0],newCost)\n",
    "        \n",
    "        \n",
    "        print(f' {node[1]} + {i[1]} = {node[1]+ i[1]}')\n",
    "        print('OLD: ', i , 'NEW: ', new)\n",
    "        \n",
    "        \n",
    "        if i[0] not in explored and i[0] not in myy(q):\n",
    "            q.append(new)\n",
    "            \n",
    "        else:\n",
    "            \n",
    "            \n",
    "    \n",
    "    q = sorted(q, key =my)\n",
    "    print(\"Q Final -->> \",q)\n",
    "    print(80*'*')\n",
    "    \n",
    "    "
   ]
  },
  {
   "cell_type": "code",
   "execution_count": null,
   "metadata": {},
   "outputs": [],
   "source": []
  },
  {
   "cell_type": "code",
   "execution_count": null,
   "metadata": {},
   "outputs": [],
   "source": []
  },
  {
   "cell_type": "code",
   "execution_count": 25,
   "metadata": {},
   "outputs": [
    {
     "name": "stdout",
     "output_type": "stream",
     "text": [
      "[('s', 0)]\n",
      "POP:  ('s', 0)\n",
      "[]\n",
      "[('a', 3), ('b', 2), ('c', 4)]\n",
      "0 + 3 = 3\n",
      "old:  ('a', 3) new-> ('a', 3)\n",
      "\n",
      "0 + 2 = 2\n",
      "old:  ('b', 2) new-> ('b', 2)\n",
      "\n",
      "0 + 4 = 4\n",
      "old:  ('c', 4) new-> ('c', 4)\n",
      "\n",
      "*********** [('b', 2), ('a', 3), ('c', 4)]\n",
      "[('b', 2), ('a', 3), ('c', 4)]\n",
      "POP:  ('b', 2)\n",
      "[('a', 3), ('c', 4)]\n",
      "[('e', 8), ('f', 7), ('d', 1)]\n",
      "2 + 8 = 10\n",
      "old:  ('e', 8) new-> ('e', 10)\n",
      "\n",
      "2 + 7 = 9\n",
      "old:  ('f', 7) new-> ('f', 9)\n",
      "\n",
      "2 + 1 = 3\n",
      "old:  ('d', 1) new-> ('d', 3)\n",
      "\n",
      "*********** [('d', 1), ('a', 3), ('c', 4), ('f', 7), ('e', 8)]\n",
      "[('d', 1), ('a', 3), ('c', 4), ('f', 7), ('e', 8)]\n",
      "POP:  ('d', 1)\n",
      "[('a', 3), ('c', 4), ('f', 7), ('e', 8)]\n",
      "[('f', 1), ('h', 1)]\n",
      "1 + 1 = 2\n",
      "old:  ('f', 1) new-> ('f', 2)\n",
      "\n",
      "1 + 1 = 2\n",
      "old:  ('h', 1) new-> ('h', 2)\n",
      "\n",
      "*********** [('f', 1), ('h', 1), ('a', 3), ('c', 4), ('f', 7), ('e', 8)]\n",
      "[('f', 1), ('h', 1), ('a', 3), ('c', 4), ('f', 7), ('e', 8)]\n",
      "POP:  ('f', 1)\n",
      "[('h', 1), ('a', 3), ('c', 4), ('f', 7), ('e', 8)]\n",
      "[('g', 5)]\n",
      "1 + 5 = 6\n",
      "old:  ('g', 5) new-> ('g', 6)\n",
      "\n",
      "*********** [('h', 1), ('a', 3), ('c', 4), ('g', 5), ('f', 7), ('e', 8)]\n",
      "[('h', 1), ('a', 3), ('c', 4), ('g', 5), ('f', 7), ('e', 8)]\n",
      "POP:  ('h', 1)\n",
      "[('a', 3), ('c', 4), ('g', 5), ('f', 7), ('e', 8)]\n",
      "[('g', 1), ('f', 3)]\n",
      "1 + 1 = 2\n",
      "old:  ('g', 1) new-> ('g', 2)\n",
      "\n",
      "1 + 3 = 4\n",
      "old:  ('f', 3) new-> ('f', 4)\n",
      "\n",
      "*********** [('g', 1), ('a', 3), ('f', 3), ('c', 4), ('g', 5), ('f', 7), ('e', 8)]\n",
      "[('g', 1), ('a', 3), ('f', 3), ('c', 4), ('g', 5), ('f', 7), ('e', 8)]\n",
      "POP:  ('g', 1)\n",
      "[('a', 3), ('f', 3), ('c', 4), ('g', 5), ('f', 7), ('e', 8)]\n",
      "[]\n",
      "*********** [('a', 3), ('f', 3), ('c', 4), ('g', 5), ('f', 7), ('e', 8)]\n",
      "[('a', 3), ('f', 3), ('c', 4), ('g', 5), ('f', 7), ('e', 8)]\n",
      "POP:  ('a', 3)\n",
      "[('f', 3), ('c', 4), ('g', 5), ('f', 7), ('e', 8)]\n",
      "[('d', 1)]\n",
      "3 + 1 = 4\n",
      "old:  ('d', 1) new-> ('d', 4)\n",
      "\n",
      "*********** [('d', 1), ('f', 3), ('c', 4), ('g', 5), ('f', 7), ('e', 8)]\n",
      "[('d', 1), ('f', 3), ('c', 4), ('g', 5), ('f', 7), ('e', 8)]\n",
      "POP:  ('d', 1)\n",
      "[('f', 3), ('c', 4), ('g', 5), ('f', 7), ('e', 8)]\n",
      "[('f', 1), ('h', 1)]\n",
      "1 + 1 = 2\n",
      "old:  ('f', 1) new-> ('f', 2)\n",
      "\n",
      "1 + 1 = 2\n",
      "old:  ('h', 1) new-> ('h', 2)\n",
      "\n",
      "*********** [('f', 1), ('h', 1), ('f', 3), ('c', 4), ('g', 5), ('f', 7), ('e', 8)]\n",
      "[('f', 1), ('h', 1), ('f', 3), ('c', 4), ('g', 5), ('f', 7), ('e', 8)]\n",
      "POP:  ('f', 1)\n",
      "[('h', 1), ('f', 3), ('c', 4), ('g', 5), ('f', 7), ('e', 8)]\n",
      "[('g', 5)]\n",
      "1 + 5 = 6\n",
      "old:  ('g', 5) new-> ('g', 6)\n",
      "\n",
      "*********** [('h', 1), ('f', 3), ('c', 4), ('g', 5), ('g', 5), ('f', 7), ('e', 8)]\n",
      "[('h', 1), ('f', 3), ('c', 4), ('g', 5), ('g', 5), ('f', 7), ('e', 8)]\n",
      "POP:  ('h', 1)\n",
      "[('f', 3), ('c', 4), ('g', 5), ('g', 5), ('f', 7), ('e', 8)]\n",
      "[('g', 1), ('f', 3)]\n",
      "1 + 1 = 2\n",
      "old:  ('g', 1) new-> ('g', 2)\n",
      "\n",
      "1 + 3 = 4\n",
      "old:  ('f', 3) new-> ('f', 4)\n",
      "\n",
      "*********** [('g', 1), ('f', 3), ('f', 3), ('c', 4), ('g', 5), ('g', 5), ('f', 7), ('e', 8)]\n",
      "[('g', 1), ('f', 3), ('f', 3), ('c', 4), ('g', 5), ('g', 5), ('f', 7), ('e', 8)]\n",
      "POP:  ('g', 1)\n",
      "[('f', 3), ('f', 3), ('c', 4), ('g', 5), ('g', 5), ('f', 7), ('e', 8)]\n",
      "[]\n",
      "*********** [('f', 3), ('f', 3), ('c', 4), ('g', 5), ('g', 5), ('f', 7), ('e', 8)]\n",
      "[('f', 3), ('f', 3), ('c', 4), ('g', 5), ('g', 5), ('f', 7), ('e', 8)]\n",
      "POP:  ('f', 3)\n",
      "[('f', 3), ('c', 4), ('g', 5), ('g', 5), ('f', 7), ('e', 8)]\n",
      "[('g', 5)]\n",
      "3 + 5 = 8\n",
      "old:  ('g', 5) new-> ('g', 8)\n",
      "\n",
      "*********** [('f', 3), ('c', 4), ('g', 5), ('g', 5), ('g', 5), ('f', 7), ('e', 8)]\n",
      "[('f', 3), ('c', 4), ('g', 5), ('g', 5), ('g', 5), ('f', 7), ('e', 8)]\n",
      "POP:  ('f', 3)\n",
      "[('c', 4), ('g', 5), ('g', 5), ('g', 5), ('f', 7), ('e', 8)]\n",
      "[('g', 5)]\n",
      "3 + 5 = 8\n",
      "old:  ('g', 5) new-> ('g', 8)\n",
      "\n",
      "*********** [('c', 4), ('g', 5), ('g', 5), ('g', 5), ('g', 5), ('f', 7), ('e', 8)]\n",
      "[('c', 4), ('g', 5), ('g', 5), ('g', 5), ('g', 5), ('f', 7), ('e', 8)]\n",
      "POP:  ('c', 4)\n",
      "[('g', 5), ('g', 5), ('g', 5), ('g', 5), ('f', 7), ('e', 8)]\n",
      "[('e', 1), ('j', 3)]\n",
      "4 + 1 = 5\n",
      "old:  ('e', 1) new-> ('e', 5)\n",
      "\n",
      "4 + 3 = 7\n",
      "old:  ('j', 3) new-> ('j', 7)\n",
      "\n",
      "*********** [('e', 1), ('j', 3), ('g', 5), ('g', 5), ('g', 5), ('g', 5), ('f', 7), ('e', 8)]\n",
      "[('e', 1), ('j', 3), ('g', 5), ('g', 5), ('g', 5), ('g', 5), ('f', 7), ('e', 8)]\n",
      "POP:  ('e', 1)\n",
      "[('j', 3), ('g', 5), ('g', 5), ('g', 5), ('g', 5), ('f', 7), ('e', 8)]\n",
      "[('g', 1)]\n",
      "1 + 1 = 2\n",
      "old:  ('g', 1) new-> ('g', 2)\n",
      "\n",
      "*********** [('g', 1), ('j', 3), ('g', 5), ('g', 5), ('g', 5), ('g', 5), ('f', 7), ('e', 8)]\n",
      "[('g', 1), ('j', 3), ('g', 5), ('g', 5), ('g', 5), ('g', 5), ('f', 7), ('e', 8)]\n",
      "POP:  ('g', 1)\n",
      "[('j', 3), ('g', 5), ('g', 5), ('g', 5), ('g', 5), ('f', 7), ('e', 8)]\n",
      "[]\n",
      "*********** [('j', 3), ('g', 5), ('g', 5), ('g', 5), ('g', 5), ('f', 7), ('e', 8)]\n",
      "[('j', 3), ('g', 5), ('g', 5), ('g', 5), ('g', 5), ('f', 7), ('e', 8)]\n",
      "POP:  ('j', 3)\n",
      "[('g', 5), ('g', 5), ('g', 5), ('g', 5), ('f', 7), ('e', 8)]\n",
      "[('e', 2)]\n",
      "3 + 2 = 5\n",
      "old:  ('e', 2) new-> ('e', 5)\n",
      "\n",
      "*********** [('e', 2), ('g', 5), ('g', 5), ('g', 5), ('g', 5), ('f', 7), ('e', 8)]\n",
      "[('e', 2), ('g', 5), ('g', 5), ('g', 5), ('g', 5), ('f', 7), ('e', 8)]\n",
      "POP:  ('e', 2)\n",
      "[('g', 5), ('g', 5), ('g', 5), ('g', 5), ('f', 7), ('e', 8)]\n",
      "[('g', 1)]\n",
      "2 + 1 = 3\n",
      "old:  ('g', 1) new-> ('g', 3)\n",
      "\n",
      "*********** [('g', 1), ('g', 5), ('g', 5), ('g', 5), ('g', 5), ('f', 7), ('e', 8)]\n",
      "[('g', 1), ('g', 5), ('g', 5), ('g', 5), ('g', 5), ('f', 7), ('e', 8)]\n",
      "POP:  ('g', 1)\n",
      "[('g', 5), ('g', 5), ('g', 5), ('g', 5), ('f', 7), ('e', 8)]\n",
      "[]\n",
      "*********** [('g', 5), ('g', 5), ('g', 5), ('g', 5), ('f', 7), ('e', 8)]\n",
      "[('g', 5), ('g', 5), ('g', 5), ('g', 5), ('f', 7), ('e', 8)]\n",
      "POP:  ('g', 5)\n",
      "[('g', 5), ('g', 5), ('g', 5), ('f', 7), ('e', 8)]\n",
      "[]\n",
      "*********** [('g', 5), ('g', 5), ('g', 5), ('f', 7), ('e', 8)]\n",
      "[('g', 5), ('g', 5), ('g', 5), ('f', 7), ('e', 8)]\n",
      "POP:  ('g', 5)\n",
      "[('g', 5), ('g', 5), ('f', 7), ('e', 8)]\n",
      "[]\n",
      "*********** [('g', 5), ('g', 5), ('f', 7), ('e', 8)]\n",
      "[('g', 5), ('g', 5), ('f', 7), ('e', 8)]\n",
      "POP:  ('g', 5)\n",
      "[('g', 5), ('f', 7), ('e', 8)]\n",
      "[]\n",
      "*********** [('g', 5), ('f', 7), ('e', 8)]\n",
      "[('g', 5), ('f', 7), ('e', 8)]\n",
      "POP:  ('g', 5)\n",
      "[('f', 7), ('e', 8)]\n",
      "[]\n",
      "*********** [('f', 7), ('e', 8)]\n",
      "[('f', 7), ('e', 8)]\n",
      "POP:  ('f', 7)\n",
      "[('e', 8)]\n",
      "[('g', 5)]\n",
      "7 + 5 = 12\n",
      "old:  ('g', 5) new-> ('g', 12)\n",
      "\n",
      "*********** [('g', 5), ('e', 8)]\n",
      "[('g', 5), ('e', 8)]\n",
      "POP:  ('g', 5)\n",
      "[('e', 8)]\n",
      "[]\n",
      "*********** [('e', 8)]\n",
      "[('e', 8)]\n",
      "POP:  ('e', 8)\n",
      "[]\n",
      "[('g', 1)]\n",
      "8 + 1 = 9\n",
      "old:  ('g', 1) new-> ('g', 9)\n",
      "\n",
      "*********** [('g', 1)]\n",
      "[('g', 1)]\n",
      "POP:  ('g', 1)\n",
      "[]\n",
      "[]\n",
      "*********** []\n"
     ]
    }
   ],
   "source": [
    "\n",
    "goal = 'g'\n",
    "q = []\n",
    "q.append(('s',0))\n",
    "explored = []\n",
    "\n",
    "while len(q)> 0:\n",
    "    \n",
    "    print(q)\n",
    "    node = q.pop(0)\n",
    "    \n",
    "    \n",
    "    print('POP: ',node)\n",
    "    print(q)\n",
    "    \n",
    "    explored.append(node[0])\n",
    "    \n",
    "    if node == goal:\n",
    "        print(explored)\n",
    "        break\n",
    "        \n",
    "        \n",
    "    child = d.get(node[0])\n",
    "    print(child)\n",
    "    \n",
    "    for i in child:\n",
    "        \n",
    "        cost = node[1] + i[1]\n",
    "        new = (i[0],cost)\n",
    "        print(node[1],'+',i[1],'=',cost)\n",
    "        print('old: ',i,'new->',new)\n",
    "        print()\n",
    "        \n",
    "        \n",
    "        \n",
    "        \n",
    "        q.append(i)\n",
    "        \n",
    "    q = sorted(q,key=my)\n",
    "    print('***********',q)\n",
    "    "
   ]
  },
  {
   "cell_type": "code",
   "execution_count": 54,
   "metadata": {},
   "outputs": [
    {
     "name": "stdout",
     "output_type": "stream",
     "text": [
      "POP:  ('s', 0)\n",
      "*********** [('b', 2), ('a', 3), ('c', 4)]\n",
      "POP:  ('b', 2)\n",
      "*********** [('d', 1), ('a', 3), ('c', 4), ('f', 7), ('e', 8)]\n",
      "POP:  ('d', 1)\n",
      "*********** [('h', 1), ('a', 3), ('c', 4), ('f', 7), ('e', 8)]\n",
      "POP:  ('h', 1)\n",
      "*********** [('g', 1), ('a', 3), ('c', 4), ('f', 7), ('e', 8)]\n",
      "POP:  ('g', 1)\n",
      "+++++++++ ['s', 'b', 'd', 'h', 'g']\n"
     ]
    }
   ],
   "source": [
    "def UCS(goal):\n",
    "\n",
    "    q = []\n",
    "    q.append(('s',0))\n",
    "    explored = []\n",
    "\n",
    "    while len(q)> 0:\n",
    "\n",
    "        #print(q)\n",
    "        node = q.pop(0)\n",
    "\n",
    "\n",
    "        print('POP: ',node)\n",
    "        #print(q)\n",
    "\n",
    "        explored.append(node[0])\n",
    "\n",
    "        if node[0] == goal:\n",
    "            print('+++++++++',explored)\n",
    "            break\n",
    "\n",
    "\n",
    "        child = d.get(node[0])\n",
    "        #print(child)\n",
    "\n",
    "        for i in child:\n",
    "            \n",
    "            if i[0] not in explored and i[0] not in myy(q):\n",
    "                cost = node[1] + i[1]\n",
    "                new = (i[0],cost)\n",
    "                #print(node[1],'+',i[1],'=',cost)\n",
    "                #print('old: ',i,'new->',new)\n",
    "                #print()\n",
    "                q.append(i)\n",
    "            else:\n",
    "                \n",
    "                \n",
    "\n",
    "        q = sorted(q,key=my)\n",
    "        print('***********',q)\n",
    "UCS('g')"
   ]
  },
  {
   "cell_type": "code",
   "execution_count": null,
   "metadata": {},
   "outputs": [],
   "source": [
    "'abfd',10"
   ]
  },
  {
   "cell_type": "code",
   "execution_count": null,
   "metadata": {},
   "outputs": [],
   "source": [
    "d,10"
   ]
  },
  {
   "cell_type": "code",
   "execution_count": 1,
   "metadata": {},
   "outputs": [
    {
     "data": {
      "text/plain": [
       "True"
      ]
     },
     "execution_count": 1,
     "metadata": {},
     "output_type": "execute_result"
    }
   ],
   "source": [
    "'sab' == 'sab'"
   ]
  },
  {
   "cell_type": "code",
   "execution_count": null,
   "metadata": {},
   "outputs": [],
   "source": [
    "[[0,0,0,1,0,0,0,0],\n",
    "[1,2,3,4,5,6,7,8],\n",
    "[1,2,3,4,5,6,7,8],\n",
    "[1,2,3,4,5,6,7,8]]"
   ]
  },
  {
   "cell_type": "code",
   "execution_count": null,
   "metadata": {},
   "outputs": [],
   "source": []
  }
 ],
 "metadata": {
  "kernelspec": {
   "display_name": "Python 3",
   "language": "python",
   "name": "python3"
  },
  "language_info": {
   "codemirror_mode": {
    "name": "ipython",
    "version": 3
   },
   "file_extension": ".py",
   "mimetype": "text/x-python",
   "name": "python",
   "nbconvert_exporter": "python",
   "pygments_lexer": "ipython3",
   "version": "3.8.10"
  }
 },
 "nbformat": 4,
 "nbformat_minor": 4
}
