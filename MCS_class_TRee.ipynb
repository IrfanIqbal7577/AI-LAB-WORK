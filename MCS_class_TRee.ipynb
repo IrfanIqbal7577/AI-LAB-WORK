{
 "cells": [
  {
   "cell_type": "code",
   "execution_count": 15,
   "metadata": {},
   "outputs": [
    {
     "name": "stdout",
     "output_type": "stream",
     "text": [
      "hello\n"
     ]
    }
   ],
   "source": [
    "def show():\n",
    "    print('hello')\n",
    "\n",
    "    \n",
    "show()"
   ]
  },
  {
   "cell_type": "code",
   "execution_count": 4,
   "metadata": {},
   "outputs": [
    {
     "name": "stdout",
     "output_type": "stream",
     "text": [
      "9\n"
     ]
    },
    {
     "data": {
      "text/plain": [
       "25"
      ]
     },
     "execution_count": 4,
     "metadata": {},
     "output_type": "execute_result"
    }
   ],
   "source": [
    "def sqr(x):\n",
    "    return x*x\n",
    "\n",
    "print(sqr(3))\n",
    "sqr(5)"
   ]
  },
  {
   "cell_type": "code",
   "execution_count": 40,
   "metadata": {},
   "outputs": [],
   "source": [
    "class MY:\n",
    "   \n",
    "    \n",
    "    def show(self):\n",
    "        print('hello in class')\n",
    "    \n",
    "    \n",
    "    def sqr(self,v):\n",
    "        self.show()\n",
    "        return v*v"
   ]
  },
  {
   "cell_type": "code",
   "execution_count": 41,
   "metadata": {},
   "outputs": [
    {
     "name": "stdout",
     "output_type": "stream",
     "text": [
      "hello in class\n",
      "hello in class\n",
      "81\n"
     ]
    }
   ],
   "source": [
    "\n",
    "o1 = MY()\n",
    "o1.show()\n",
    "print(o1.sqr(9))\n"
   ]
  },
  {
   "cell_type": "code",
   "execution_count": 45,
   "metadata": {},
   "outputs": [],
   "source": [
    "class MY:\n",
    "    \n",
    "    def __init__(self):\n",
    "        self.name = 'ali'\n",
    "    \n",
    "    def show(self):\n",
    "        print('hello in class: ',self.name)\n",
    "    \n",
    "    \n",
    "    def sqr(self,x):\n",
    "        return x*x"
   ]
  },
  {
   "cell_type": "code",
   "execution_count": 46,
   "metadata": {},
   "outputs": [
    {
     "name": "stdout",
     "output_type": "stream",
     "text": [
      "hello in class:  ali\n"
     ]
    }
   ],
   "source": [
    "o1 = MY()\n",
    "o1.show()"
   ]
  },
  {
   "cell_type": "code",
   "execution_count": 47,
   "metadata": {},
   "outputs": [],
   "source": [
    "class MY:\n",
    "    \n",
    "    \n",
    "    def __init__(self,n,c,u):\n",
    "        self.name = n\n",
    "        self.cgpa = c\n",
    "        self.uni = u\n",
    "    \n",
    "    def show(self):\n",
    "        print('hello in class: ',self.name,self.cgpa,self.uni)\n",
    "    \n",
    "    \n",
    "    def sqr(self,x):\n",
    "        return x*x"
   ]
  },
  {
   "cell_type": "code",
   "execution_count": 35,
   "metadata": {},
   "outputs": [
    {
     "name": "stdout",
     "output_type": "stream",
     "text": [
      "hello in class:  ali 2.8 CUI\n",
      "hello in class:  lasj 2.9 CUI\n",
      "hello in class:  aioew 3.8 CUI\n"
     ]
    }
   ],
   "source": [
    "o = mY()\n",
    "o1 = MY('ali',2.8,'CUI')\n",
    "o1.show()\n",
    "\n",
    "o2 = MY('lasj',2.9,'CUI')\n",
    "o2.show()\n",
    "\n",
    "o3 = MY('aioew',3.8,'CUI')\n",
    "o3.show()"
   ]
  },
  {
   "cell_type": "code",
   "execution_count": null,
   "metadata": {},
   "outputs": [],
   "source": []
  },
  {
   "cell_type": "code",
   "execution_count": 48,
   "metadata": {},
   "outputs": [],
   "source": [
    "class MY:\n",
    "    \n",
    "    uni = 'CUI'\n",
    "    \n",
    "    \n",
    "    def __init__(self,n,c):\n",
    "        self.name = n\n",
    "        self.cgpa = c\n",
    "    \n",
    "    def show(self):\n",
    "        print('hello in class: ',self.name,self.cgpa,MY.uni)\n",
    "    \n",
    "    \n",
    "    def sqr(self,x):\n",
    "        return x*x"
   ]
  },
  {
   "cell_type": "code",
   "execution_count": 29,
   "metadata": {},
   "outputs": [
    {
     "name": "stdout",
     "output_type": "stream",
     "text": [
      "hello in class:  ali 2.8 CUI\n",
      "hello in class:  lasj 2.9 CUI\n",
      "hello in class:  aioew 3.8 CUI\n"
     ]
    }
   ],
   "source": [
    "o1 = MY('ali',2.8)\n",
    "o1.show()\n",
    "\n",
    "o2 = MY('lasj',2.9)\n",
    "o2.show()\n",
    "\n",
    "o3 = MY('aioew',3.8)\n",
    "o3.show()"
   ]
  },
  {
   "cell_type": "code",
   "execution_count": 33,
   "metadata": {},
   "outputs": [
    {
     "name": "stdout",
     "output_type": "stream",
     "text": [
      "1 2 3\n"
     ]
    }
   ],
   "source": [
    "li = [1,2,3]\n",
    "print(*li)"
   ]
  },
  {
   "cell_type": "code",
   "execution_count": 49,
   "metadata": {},
   "outputs": [],
   "source": [
    "class Node:\n",
    "    \n",
    "    def __init__(self, v):\n",
    "        self.val = v\n",
    "        self.left = None\n",
    "        self.right = None"
   ]
  },
  {
   "cell_type": "code",
   "execution_count": 34,
   "metadata": {},
   "outputs": [],
   "source": [
    "    \n",
    "def insert( root, node):\n",
    "    \n",
    "    if root is None:\n",
    "        return node\n",
    "    \n",
    "    if root.val > node.val:\n",
    "        root.left = insert(root.left,node)\n",
    "\n",
    "    elif root.val < node.val:\n",
    "        root.right = insert(root.right,node)\n",
    "\n",
    "    return root"
   ]
  },
  {
   "cell_type": "code",
   "execution_count": 53,
   "metadata": {},
   "outputs": [],
   "source": [
    "def inOrder(root):\n",
    "\n",
    "    if not root:\n",
    "        return None\n",
    "    else:\n",
    "        inOrder(root.left)\n",
    "        print(root.val)\n",
    "        inOrder(root.right)"
   ]
  },
  {
   "cell_type": "code",
   "execution_count": 54,
   "metadata": {},
   "outputs": [
    {
     "name": "stdout",
     "output_type": "stream",
     "text": [
      "3\n",
      "5\n",
      "7\n",
      "10\n",
      "12\n",
      "15\n",
      "17\n"
     ]
    }
   ],
   "source": [
    "root = Node(10)\n",
    "a= Node(5)\n",
    "insert(root,a)\n",
    "insert(root,Node(3))\n",
    "insert(root,Node(7))\n",
    "insert(root,Node(15))\n",
    "insert(root,Node(12))\n",
    "insert(root,Node(17))\n",
    "inOrder(root)"
   ]
  },
  {
   "cell_type": "code",
   "execution_count": 56,
   "metadata": {},
   "outputs": [
    {
     "name": "stdout",
     "output_type": "stream",
     "text": [
      "3\n",
      "5\n",
      "7\n",
      "10\n",
      "12\n",
      "15\n",
      "17\n"
     ]
    }
   ],
   "source": [
    "class Node:\n",
    "    \n",
    "    def __init__(self, v):\n",
    "        self.val = v\n",
    "        self.left = None\n",
    "        self.right = None\n",
    "        \n",
    "        \n",
    "    \n",
    "def insert( root, node):\n",
    "\n",
    "    if root is None:\n",
    "        return node\n",
    "\n",
    "    if root.val > node.val:\n",
    "        root.left = insert(root.left,node)\n",
    "\n",
    "    elif root.val < node.val:\n",
    "        root.right = insert(root.right,node)\n",
    "\n",
    "    return root\n",
    "\n",
    "def inOrder(root):\n",
    "\n",
    "    if not root:\n",
    "        return None\n",
    "    else:\n",
    "        inOrder(root.left)\n",
    "        print(root.val)\n",
    "        inOrder(root.right)\n",
    "        \n",
    "\n",
    "        \n",
    "root = Node(10)\n",
    "\n",
    "insert(root,Node(5))\n",
    "insert(root,Node(3))\n",
    "insert(root,Node(7))\n",
    "insert(root,Node(15))\n",
    "insert(root,Node(12))\n",
    "insert(root,Node(17))\n",
    "inOrder(root)"
   ]
  },
  {
   "cell_type": "code",
   "execution_count": 57,
   "metadata": {},
   "outputs": [
    {
     "name": "stdout",
     "output_type": "stream",
     "text": [
      "3\n",
      "5\n",
      "7\n",
      "10\n",
      "12\n",
      "15\n",
      "17\n"
     ]
    }
   ],
   "source": [
    "val = [10,5,3,7,15,12,17]\n",
    "\n",
    "root = Node(val[0])\n",
    "\n",
    "for i in val:\n",
    "    insert(root,Node(i))\n",
    "    \n",
    "inOrder(root)\n",
    "    "
   ]
  },
  {
   "cell_type": "code",
   "execution_count": 58,
   "metadata": {},
   "outputs": [
    {
     "data": {
      "text/plain": [
       "'ali is boy and what are you doing'"
      ]
     },
     "execution_count": 58,
     "metadata": {},
     "output_type": "execute_result"
    }
   ],
   "source": [
    "st = 'ali is boy and what are you doing'\n",
    "st"
   ]
  },
  {
   "cell_type": "code",
   "execution_count": 60,
   "metadata": {},
   "outputs": [
    {
     "data": {
      "text/plain": [
       "['ali', 'is', 'boy', 'and', 'what', 'are', 'you', 'doing']"
      ]
     },
     "execution_count": 60,
     "metadata": {},
     "output_type": "execute_result"
    }
   ],
   "source": [
    "ab = st.split(' ')\n",
    "ab"
   ]
  },
  {
   "cell_type": "code",
   "execution_count": 62,
   "metadata": {},
   "outputs": [],
   "source": [
    "li = []\n",
    "\n",
    "for i in ab:\n",
    "    li.append(len(i))"
   ]
  },
  {
   "cell_type": "code",
   "execution_count": 63,
   "metadata": {},
   "outputs": [
    {
     "data": {
      "text/plain": [
       "[3, 2, 3, 3, 4, 3, 3, 5]"
      ]
     },
     "execution_count": 63,
     "metadata": {},
     "output_type": "execute_result"
    }
   ],
   "source": [
    "li"
   ]
  },
  {
   "cell_type": "code",
   "execution_count": 65,
   "metadata": {},
   "outputs": [
    {
     "data": {
      "text/plain": [
       "[2, 3, 4, 5]"
      ]
     },
     "execution_count": 65,
     "metadata": {},
     "output_type": "execute_result"
    }
   ],
   "source": [
    "list(set(li))"
   ]
  }
 ],
 "metadata": {
  "kernelspec": {
   "display_name": "Python 3 (ipykernel)",
   "language": "python",
   "name": "python3"
  },
  "language_info": {
   "codemirror_mode": {
    "name": "ipython",
    "version": 3
   },
   "file_extension": ".py",
   "mimetype": "text/x-python",
   "name": "python",
   "nbconvert_exporter": "python",
   "pygments_lexer": "ipython3",
   "version": "3.8.7"
  }
 },
 "nbformat": 4,
 "nbformat_minor": 4
}
