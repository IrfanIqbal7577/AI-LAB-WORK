{
 "cells": [
  {
   "cell_type": "code",
   "execution_count": null,
   "metadata": {
    "id": "SUQLzPQNMq6l"
   },
   "outputs": [],
   "source": []
  },
  {
   "cell_type": "code",
   "execution_count": 1,
   "metadata": {
    "colab": {
     "base_uri": "https://localhost:8080/"
    },
    "id": "alZaHfyXNjsl",
    "outputId": "31c74010-e1b2-40d4-ae14-66d07da08b71"
   },
   "outputs": [
    {
     "name": "stdout",
     "output_type": "stream",
     "text": [
      "Requirement already satisfied: simpleai in c:\\users\\mr.irfan iqbal\\appdata\\local\\programs\\python\\python38\\lib\\site-packages (0.8.3)Note: you may need to restart the kernel to use updated packages.\n",
      "\n"
     ]
    },
    {
     "name": "stderr",
     "output_type": "stream",
     "text": [
      "WARNING: You are using pip version 20.2.3; however, version 21.3.1 is available.\n",
      "You should consider upgrading via the 'c:\\users\\mr.irfan iqbal\\appdata\\local\\programs\\python\\python38\\python.exe -m pip install --upgrade pip' command.\n"
     ]
    }
   ],
   "source": [
    "pip install simpleai"
   ]
  },
  {
   "cell_type": "code",
   "execution_count": 4,
   "metadata": {
    "id": "rNtaBGJrPrD5"
   },
   "outputs": [],
   "source": [
    "from simpleai.search import CspProblem\n",
    "\n",
    "variables = ('A', 'B', 'C','D')\n",
    "\n",
    "domains = {\n",
    "    'A': [1, 2, 3,4],\n",
    "    'B': [1, 3],\n",
    "    'C': [1, 2],\n",
    "    'D':[1,4],\n",
    "}\n",
    "\n",
    "# a constraint that expects different variables to have different values\n",
    "def const_different(variables, values):\n",
    "    return len(values) == len(set(values))  # remove repeated values and count\n",
    "\n",
    "# a constraint that expects one variable to be bigger than other\n",
    "def const_one_bigger_other(variables, values):\n",
    "    return values[0] > values[1]\n",
    "\n",
    "# a constraint thet expects two variables to be one odd and the other even,\n",
    "# no matter which one is which type\n",
    "def const_one_odd_one_even(variables, values):\n",
    "    if values[0] % 2 == 0:\n",
    "        return values[1] % 2 == 1  # first even, expect second to be odd\n",
    "    else:\n",
    "        return values[1] % 2 == 0  # first odd, expect second to be even\n",
    "\n",
    "constraints = [\n",
    "    (('A', 'B', 'C','D'), const_different),\n",
    "    (('A', 'C'), const_one_bigger_other),\n",
    "    (('A', 'C'), const_one_odd_one_even),\n",
    "]\n",
    "\n",
    "my_problem = CspProblem(variables, domains, constraints)"
   ]
  },
  {
   "cell_type": "code",
   "execution_count": 5,
   "metadata": {
    "colab": {
     "base_uri": "https://localhost:8080/"
    },
    "id": "7GbUtkizQCWz",
    "outputId": "6e70de2b-6d94-4aef-ba6c-e387db0bd304"
   },
   "outputs": [
    {
     "data": {
      "text/plain": [
       "{'A': 2, 'B': 3, 'C': 1, 'D': 4}"
      ]
     },
     "execution_count": 5,
     "metadata": {},
     "output_type": "execute_result"
    }
   ],
   "source": [
    "from simpleai.search import backtrack\n",
    "\n",
    "result = backtrack(my_problem)\n",
    "result"
   ]
  },
  {
   "cell_type": "code",
   "execution_count": null,
   "metadata": {
    "id": "NfP-Maa5QM-p"
   },
   "outputs": [],
   "source": []
  }
 ],
 "metadata": {
  "colab": {
   "collapsed_sections": [],
   "name": "CSP.ipynb",
   "provenance": []
  },
  "kernelspec": {
   "display_name": "Python 3 (ipykernel)",
   "language": "python",
   "name": "python3"
  },
  "language_info": {
   "codemirror_mode": {
    "name": "ipython",
    "version": 3
   },
   "file_extension": ".py",
   "mimetype": "text/x-python",
   "name": "python",
   "nbconvert_exporter": "python",
   "pygments_lexer": "ipython3",
   "version": "3.8.7"
  }
 },
 "nbformat": 4,
 "nbformat_minor": 4
}
