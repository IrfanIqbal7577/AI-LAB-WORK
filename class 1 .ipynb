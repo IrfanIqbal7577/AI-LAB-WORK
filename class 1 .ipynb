{
 "cells": [
  {
   "cell_type": "code",
   "execution_count": 9,
   "metadata": {},
   "outputs": [
    {
     "name": "stdout",
     "output_type": "stream",
     "text": [
      "start 0\n"
     ]
    }
   ],
   "source": [
    "class MY:\n",
    "    \n",
    "    __name = 'kk'\n",
    "    \n",
    "    def __init__(self):\n",
    "        self.__x=0\n",
    "    \n",
    "    def sqr(self,y):\n",
    "        self.show()\n",
    "        return y*y\n",
    "    \n",
    "    def show(self):\n",
    "        print('start',self.__x)\n",
    "        \n",
    "    \n",
    "obj = MY()\n",
    "obj.__x = -1\n",
    "\n",
    "obj.show()"
   ]
  },
  {
   "cell_type": "code",
   "execution_count": null,
   "metadata": {},
   "outputs": [],
   "source": []
  },
  {
   "cell_type": "code",
   "execution_count": null,
   "metadata": {},
   "outputs": [],
   "source": []
  },
  {
   "cell_type": "code",
   "execution_count": null,
   "metadata": {},
   "outputs": [],
   "source": []
  },
  {
   "cell_type": "code",
   "execution_count": null,
   "metadata": {},
   "outputs": [],
   "source": []
  },
  {
   "cell_type": "code",
   "execution_count": null,
   "metadata": {},
   "outputs": [],
   "source": []
  },
  {
   "cell_type": "code",
   "execution_count": null,
   "metadata": {},
   "outputs": [],
   "source": [
    "class Square:\n",
    "\n",
    "    def __init__(self):    # special method __init__\n",
    "        self.sides = 4\n",
    "\n",
    "square = Square()\n",
    "print(square.sides)\n"
   ]
  },
  {
   "cell_type": "code",
   "execution_count": 46,
   "metadata": {},
   "outputs": [
    {
     "name": "stdout",
     "output_type": "stream",
     "text": [
      "blue\n",
      "ADF122\n"
     ]
    }
   ],
   "source": [
    "\n",
    "class Car:\n",
    "    def __init__(self, color_, regNum_):\n",
    "        self.color = color_\n",
    "        self.regNum = regNum_\n",
    "    \n",
    "    def show(self):\n",
    "        print()\n",
    "\n",
    "\n",
    "car1 = Car(\"blue\", \"ADF122\")    # Note: you should not pass self parameter explicitly, only color parameter\n",
    "\n",
    "print(car1.color)\n",
    "print(car1.regNum)"
   ]
  },
  {
   "cell_type": "code",
   "execution_count": null,
   "metadata": {},
   "outputs": [],
   "source": []
  },
  {
   "cell_type": "code",
   "execution_count": 51,
   "metadata": {},
   "outputs": [
    {
     "name": "stdout",
     "output_type": "stream",
     "text": [
      "This is a yellow car.\n",
      "This is a green car.\n",
      "This is a black car.\n",
      "This is a blue car.\n",
      "This is a red car.\n"
     ]
    }
   ],
   "source": [
    "class Car:\n",
    "    #color = \"\"\n",
    "    def __init__(self,clr):\n",
    "        self.color = clr\n",
    "        \n",
    "        \n",
    "    def description(self):\n",
    "        description_string = \"This is a \" + self.color + \" car.\"\n",
    "        return description_string\n",
    "\n",
    "car1 = Car(\"yellow\")\n",
    "car2 = Car(\"green\")\n",
    "car3 = Car(\"black\")\n",
    "\n",
    "print(car1.description())\n",
    "print(car2.description())\n",
    "print(car3.description())\n",
    "\n",
    "car1.color = \"blue\"\n",
    "car2.color = \"red\"\n",
    "\n",
    "print(car1.description())\n",
    "print(car2.description())"
   ]
  },
  {
   "cell_type": "code",
   "execution_count": 6,
   "metadata": {},
   "outputs": [
    {
     "name": "stdout",
     "output_type": "stream",
     "text": [
      "This is a yellow car.\n",
      "This is a green car.\n",
      "This is a black car.\n",
      "This is a blue car.\n",
      "This is a red car.\n"
     ]
    }
   ],
   "source": [
    "class Car:\n",
    "    #color = \"\"\n",
    "    def __init__(self,clr):\n",
    "        self.color = clr\n",
    "        \n",
    "    def description(self):\n",
    "        description_string = \"This is a \" + self.color + \" car.\"\n",
    "        return description_string\n",
    "\n",
    "car1 = Car(\"yellow\")\n",
    "car2 = Car(\"green\")\n",
    "car3 = Car(\"black\")\n",
    "print(car1.description())\n",
    "print(car2.description())\n",
    "print(car3.description())\n",
    "\n",
    "car1.color = \"blue\"\n",
    "car2.color = \"red\"\n",
    "\n",
    "print(car1.description())\n",
    "print(car2.description())"
   ]
  },
  {
   "cell_type": "code",
   "execution_count": null,
   "metadata": {},
   "outputs": [],
   "source": []
  },
  {
   "cell_type": "code",
   "execution_count": null,
   "metadata": {},
   "outputs": [],
   "source": []
  },
  {
   "cell_type": "code",
   "execution_count": null,
   "metadata": {},
   "outputs": [],
   "source": []
  },
  {
   "cell_type": "code",
   "execution_count": null,
   "metadata": {},
   "outputs": [],
   "source": []
  },
  {
   "cell_type": "code",
   "execution_count": null,
   "metadata": {},
   "outputs": [],
   "source": []
  },
  {
   "cell_type": "code",
   "execution_count": null,
   "metadata": {},
   "outputs": [],
   "source": []
  },
  {
   "cell_type": "code",
   "execution_count": null,
   "metadata": {},
   "outputs": [],
   "source": []
  },
  {
   "cell_type": "code",
   "execution_count": null,
   "metadata": {},
   "outputs": [],
   "source": []
  },
  {
   "cell_type": "code",
   "execution_count": null,
   "metadata": {},
   "outputs": [],
   "source": []
  },
  {
   "cell_type": "code",
   "execution_count": null,
   "metadata": {},
   "outputs": [],
   "source": []
  },
  {
   "cell_type": "code",
   "execution_count": null,
   "metadata": {},
   "outputs": [],
   "source": []
  },
  {
   "cell_type": "code",
   "execution_count": 61,
   "metadata": {},
   "outputs": [
    {
     "name": "stdout",
     "output_type": "stream",
     "text": [
      "amjad khan\n",
      "iqra\n",
      "iqra khan\n",
      "kk\n",
      "iqra khan\n"
     ]
    }
   ],
   "source": [
    "class Person:\n",
    "    def __init__(self): \n",
    "        self.name = 'amjad'\n",
    "        self.__lastname = 'khan'\n",
    "    \n",
    "    def PrintName(self):\n",
    "        return self.name +' ' + self.__lastname\n",
    "    \n",
    "#Outside class    \n",
    "P = Person()\n",
    "print(P.PrintName())\n",
    "\n",
    "\n",
    "P.name = 'iqra'\n",
    "print(P.name)\n",
    "print(P.PrintName())\n",
    "\n",
    "P.__lastname = 'kk'\n",
    "print(P.__lastname)\n",
    "print(P.PrintName())"
   ]
  },
  {
   "cell_type": "code",
   "execution_count": null,
   "metadata": {},
   "outputs": [],
   "source": []
  },
  {
   "cell_type": "code",
   "execution_count": null,
   "metadata": {},
   "outputs": [],
   "source": [
    "P.name = 'iqra'\n",
    "P.__lastname = 'kk'\n",
    "print(P.__lastname)\n",
    "print(P.PrintName())"
   ]
  },
  {
   "cell_type": "code",
   "execution_count": null,
   "metadata": {},
   "outputs": [],
   "source": []
  },
  {
   "cell_type": "code",
   "execution_count": 62,
   "metadata": {},
   "outputs": [
    {
     "name": "stdout",
     "output_type": "stream",
     "text": [
      "Selling Price: 900\n",
      "1000\n",
      "Selling Price: 900\n"
     ]
    }
   ],
   "source": [
    "class Computer:\n",
    "\n",
    "    def __init__(self):\n",
    "        self.__maxprice = '900'\n",
    "\n",
    "    def sell(self):\n",
    "        print(\"Selling Price: {}\".format(self.__maxprice))\n",
    "\n",
    "\n",
    "c = Computer()\n",
    "c.sell()\n",
    "\n",
    "# change the price\n",
    "c.__maxprice = 1000\n",
    "print(c.__maxprice)\n",
    "c.sell()\n",
    "\n"
   ]
  },
  {
   "cell_type": "code",
   "execution_count": null,
   "metadata": {},
   "outputs": [],
   "source": [
    "class Person:\n",
    "    pass  # An empty block\n",
    "\n",
    "p = Person()\n",
    "print(p)"
   ]
  },
  {
   "cell_type": "code",
   "execution_count": null,
   "metadata": {},
   "outputs": [],
   "source": [
    "class Person:\n",
    "    def say_hi(self):\n",
    "        print('Hello, how are you?')\n",
    "\n",
    "p = Person()\n",
    "p.say_hi()  #Person().say_hi()\n"
   ]
  },
  {
   "cell_type": "code",
   "execution_count": null,
   "metadata": {},
   "outputs": [],
   "source": []
  },
  {
   "cell_type": "code",
   "execution_count": null,
   "metadata": {},
   "outputs": [],
   "source": [
    "class Person:\n",
    "    def __init__(self, name):\n",
    "        self.name = name\n",
    "\n",
    "    def say_hi(self):\n",
    "        print('Hello, my name is', self.name)\n",
    "\n",
    "p1 = Person('ALi')\n",
    "p1.say_hi()\n",
    "p2 = Person('Noman')\n",
    "p2.say_hi()"
   ]
  },
  {
   "cell_type": "code",
   "execution_count": null,
   "metadata": {},
   "outputs": [],
   "source": [
    "class Person:\n",
    "    def __init__(self, nam):\n",
    "        self.name = nam\n",
    "\n",
    "    def say_hi(self):\n",
    "        print('Hello, my name is', self.name)\n",
    "\n",
    "p1 = Person('ALi')\n",
    "p1.say_hi()\n",
    "p2 = Person('Noman')\n",
    "p2.say_hi()"
   ]
  },
  {
   "cell_type": "code",
   "execution_count": null,
   "metadata": {},
   "outputs": [],
   "source": [
    "class Person:\n",
    "    def __init__(self, nam):\n",
    "        name = nam\n",
    "\n",
    "    def say_hi(self):\n",
    "        print('Hello, my name is', self.name)\n",
    "\n",
    "p1 = Person('ALi')\n",
    "p1.say_hi()\n",
    "p2 = Person('Noman')\n",
    "p2.say_hi()"
   ]
  },
  {
   "cell_type": "code",
   "execution_count": null,
   "metadata": {},
   "outputs": [],
   "source": [
    "class Person:\n",
    "    name = ''\n",
    "    def __init__(self, nam):\n",
    "        name = nam\n",
    "\n",
    "    def say_hi(self):\n",
    "        print('Hello, my name is', self.name)\n",
    "\n",
    "p1 = Person('ALi')\n",
    "p1.say_hi()\n",
    "p2 = Person('Noman')\n",
    "p2.say_hi()"
   ]
  },
  {
   "cell_type": "code",
   "execution_count": null,
   "metadata": {},
   "outputs": [],
   "source": [
    "class Person:\n",
    "    name = '+'\n",
    "    def __init__(self, nam):\n",
    "        name = nam\n",
    "\n",
    "    def say_hi(self):\n",
    "        print('Hello, my name is', self.name)\n",
    "\n",
    "p1 = Person('ALi')\n",
    "p1.say_hi()\n",
    "p2 = Person('Noman')\n",
    "p2.say_hi()"
   ]
  },
  {
   "cell_type": "code",
   "execution_count": null,
   "metadata": {},
   "outputs": [],
   "source": [
    "class Person:\n",
    "    name = '+'\n",
    "    def __init__(self, nam):\n",
    "        self.name = nam\n",
    "\n",
    "    def say_hi(self):\n",
    "        print('Hello, my name is', self.name)\n",
    "\n",
    "p1 = Person('ALi')\n",
    "p1.say_hi()\n",
    "p2 = Person('Noman')\n",
    "p2.say_hi()"
   ]
  },
  {
   "cell_type": "code",
   "execution_count": null,
   "metadata": {},
   "outputs": [],
   "source": [
    "class Person:\n",
    "    name = '+'\n",
    "    def __init__(self, nam):\n",
    "        self.name = nam\n",
    "\n",
    "    def say_hi(self):\n",
    "        print('Hello, my name is', self.name, Person.name)\n",
    "\n",
    "p1 = Person('ALi')\n",
    "p1.say_hi()\n",
    "p2 = Person('Noman')\n",
    "p2.say_hi()"
   ]
  },
  {
   "cell_type": "code",
   "execution_count": null,
   "metadata": {},
   "outputs": [],
   "source": [
    "class Person:\n",
    "    name = '+'\n",
    "    def __init__(self, nam):\n",
    "        Person.name = nam\n",
    "\n",
    "    def say_hi(self):\n",
    "        print('Hello, my name is', Person.name, self.name)\n",
    "\n",
    "p1 = Person('ALi')\n",
    "p1.say_hi()\n",
    "p2 = Person('Noman')\n",
    "p2.say_hi()"
   ]
  },
  {
   "cell_type": "code",
   "execution_count": null,
   "metadata": {},
   "outputs": [],
   "source": [
    "class Robot:\n",
    "    \"\"\"Represents a robot, with a name.\"\"\"\n",
    "    \n",
    "    no_of_robots = 0\n",
    "\n",
    "    def __init__(self, name):\n",
    "        \n",
    "        self.name = name\n",
    "        Robot.no_of_robots += 1\n",
    "\n",
    "        \n",
    "droid1 = Robot(\"R2-D2\")\n",
    "droid2 = Robot(\"R2-D3\")\n",
    "droid3 = Robot(\"R2-D4\")\n",
    "droid1.no_of_robots"
   ]
  },
  {
   "cell_type": "code",
   "execution_count": null,
   "metadata": {},
   "outputs": [],
   "source": [
    "a =2 \n",
    "b = 3\n",
    "res = a+b\n",
    "\n",
    "print(a,\" + \",b,\" = \", res)\n",
    "\n",
    "print(\"{} + {} = {}.\".format(a,b,res))"
   ]
  },
  {
   "cell_type": "code",
   "execution_count": null,
   "metadata": {},
   "outputs": [],
   "source": [
    "def my(x):\n",
    "    return x[1]"
   ]
  },
  {
   "cell_type": "code",
   "execution_count": null,
   "metadata": {},
   "outputs": [],
   "source": [
    "lis = [(2,'a'),(3,'z'),(1,'g')]\n",
    "sorted(lis,key=my)"
   ]
  },
  {
   "cell_type": "code",
   "execution_count": null,
   "metadata": {},
   "outputs": [],
   "source": []
  },
  {
   "cell_type": "code",
   "execution_count": null,
   "metadata": {},
   "outputs": [],
   "source": [
    "class Robot:\n",
    "    \"\"\"Represents a robot, with a name.\"\"\"\n",
    "    \n",
    "    no_of_robots = 0\n",
    "\n",
    "    def __init__(self, name):\n",
    "        \n",
    "        self.name = name\n",
    "        Robot.no_of_robots += 1\n",
    "        \n",
    "    def say_hi(self):\n",
    "        \"\"\"Greeting by the robot. Yeah, they can do that.\"\"\"\n",
    "        \n",
    "        print(\"Greetings, my masters call me {}.\".format(self.name))\n",
    "        \n",
    "droid1 = Robot(\"R2-D2\")\n",
    "droid2 = Robot(\"R2-D3\")\n",
    "droid3 = Robot(\"R2-D4\")\n",
    "print(Robot.no_of_robots)\n",
    "\n",
    "droid1.say_hi()\n",
    "droid2.say_hi()\n",
    "droid3.say_hi()\n",
    "\n",
    "print(droid1.say_hi.__doc__)"
   ]
  },
  {
   "cell_type": "code",
   "execution_count": null,
   "metadata": {},
   "outputs": [],
   "source": [
    "class Robot:\n",
    "    \"\"\"Represents a robot, with a name.\"\"\"\n",
    "    \n",
    "    no_of_robots = 0\n",
    "\n",
    "    def __init__(self, name):\n",
    "        \n",
    "        self.name = name\n",
    "        Robot.no_of_robots += 1\n",
    "        \n",
    "    def say_hi(self):\n",
    "        \"\"\"Greeting by the robot. Yeah, they can do that.\"\"\"\n",
    "        \n",
    "        print(\"Greetings, my masters call me {}.\".format(self.name))\n",
    "        \n",
    "    def die(self):\n",
    "        \"\"\"I am dying.\"\"\"\n",
    "        print(\"{} is being destroyed!\".format(self.name))\n",
    "\n",
    "        Robot.no_of_robots -= 1\n",
    "\n",
    "        if Robot.no_of_robots == 0:\n",
    "            print(\"{} was the last one.\".format(self.name))\n",
    "        else:\n",
    "            print(\"There are still {} robots working.\".format(Robot.no_of_robots))\n",
    "            \n",
    "droid1 = Robot(\"R2-D2\")\n",
    "droid2 = Robot(\"R2-D3\")\n",
    "droid3 = Robot(\"R2-D4\")\n",
    "print(Robot.no_of_robots)\n",
    "\n",
    "droid1.say_hi()\n",
    "droid2.say_hi()\n",
    "droid3.say_hi()\n",
    "\n",
    "print(droid1.say_hi.__doc__)\n",
    "\n",
    "droid1.die()\n",
    "droid2.die()\n"
   ]
  },
  {
   "cell_type": "code",
   "execution_count": null,
   "metadata": {},
   "outputs": [],
   "source": [
    "class Robot:\n",
    "    \"\"\"Represents a robot, with a name.\"\"\"\n",
    "    \n",
    "    no_of_robots = 0\n",
    "\n",
    "    def __init__(self, name):\n",
    "        \n",
    "        self.name = name\n",
    "        Robot.no_of_robots += 1\n",
    "        \n",
    "    def say_hi(self):\n",
    "        \"\"\"Greeting by the robot. Yeah, they can do that.\"\"\"\n",
    "        \n",
    "        print(\"Greetings, my masters call me {}.\".format(self.name))\n",
    "        \n",
    "    def die(self):\n",
    "        \"\"\"I am dying.\"\"\"\n",
    "        print(\"{} is being destroyed!\".format(self.name))\n",
    "\n",
    "        Robot.no_of_robots -= 1\n",
    "\n",
    "        if Robot.no_of_robots == 0:\n",
    "            print(\"{} was the last one.\".format(self.name))\n",
    "        else:\n",
    "            print(\"There are still {} robots working.\".format(Robot.no_of_robots))\n",
    "\n",
    "    @classmethod\n",
    "    \n",
    "    def how_many(cls):\n",
    "        \"\"\"Prints the current population.\"\"\"\n",
    "        print(\"We have {:d} robots.\".format(cls.no_of_robots))\n",
    "        \n",
    "        \n",
    "droid1 = Robot(\"R2-D2\")\n",
    "droid2 = Robot(\"R2-D3\")\n",
    "droid3 = Robot(\"R2-D4\")\n",
    "print(Robot.no_of_robots)\n",
    "#droid1.how_many()\n",
    "\n",
    "droid1.say_hi()\n",
    "droid2.say_hi()\n",
    "droid3.say_hi()\n",
    "\n",
    "print(droid1.say_hi.__doc__)\n",
    "\n",
    "droid1.die()\n",
    "\n",
    "print(Robot.no_of_robots)\n",
    "\n",
    "\n",
    "Robot.how_many()"
   ]
  },
  {
   "cell_type": "code",
   "execution_count": null,
   "metadata": {},
   "outputs": [],
   "source": [
    "# from (https://python.swaroopch.com/)\n",
    "class Robot:\n",
    "    \"\"\"Represents a robot, with a name.\"\"\"\n",
    "\n",
    "    # A class variable, counting the number of robots\n",
    "    population = 0\n",
    "\n",
    "    def __init__(self, name):\n",
    "        \"\"\"Initializes the data.\"\"\"\n",
    "        self.name = name\n",
    "        print(\"(Initializing {})\".format(self.name))\n",
    "\n",
    "        # When this person is created, the robot\n",
    "        # adds to the population\n",
    "        Robot.population += 1\n",
    "\n",
    "    def die(self):\n",
    "        \"\"\"I am dying.\"\"\"\n",
    "        print(\"{} is being destroyed!\".format(self.name))\n",
    "\n",
    "        Robot.population -= 1\n",
    "\n",
    "        if Robot.population == 0:\n",
    "            print(\"{} was the last one.\".format(self.name))\n",
    "        else:\n",
    "            print(\"There are still {:d} robots working.\".format(\n",
    "                Robot.population))\n",
    "\n",
    "    def say_hi(self):\n",
    "        \"\"\"Greeting by the robot.\n",
    "\n",
    "        Yeah, they can do that.\"\"\"\n",
    "        print(\"Greetings, my masters call me {}.\".format(self.name))\n",
    "\n",
    "    @classmethod\n",
    "    def how_many(cls):\n",
    "        \"\"\"Prints the current population.\"\"\"\n",
    "        print(\"We have {:d} robots.\".format(cls.population))\n",
    "\n",
    "\n",
    "droid1 = Robot(\"R2-D2\")\n",
    "droid1.say_hi()\n",
    "Robot.how_many()\n",
    "\n",
    "droid2 = Robot(\"C-3PO\")\n",
    "droid2.say_hi()\n",
    "Robot.how_many()\n",
    "\n",
    "print(\"\\nRobots can do some work here.\\n\")\n",
    "\n",
    "print(\"Robots have finished their work. So let's destroy them.\")\n",
    "droid1.die()\n",
    "droid2.die()\n",
    "\n",
    "Robot.how_many()\n"
   ]
  },
  {
   "cell_type": "code",
   "execution_count": null,
   "metadata": {},
   "outputs": [],
   "source": [
    "\n",
    "class Employee:\n",
    "    'Common base class for all employees and description '\n",
    "    empCount = 0\n",
    "\n",
    "    def __init__(self, name, salary):\n",
    "        self.name = name\n",
    "        self.salary = salary\n",
    "        Employee.empCount += 1\n",
    "\n",
    "    def displayCount(self):\n",
    "        print(\"Total Employee \" ,Employee.empCount)\n",
    "\n",
    "    def displayEmployee(self):\n",
    "        print(\"Name : \", self.name,  \", Salary: \", self.salary)\n",
    "             \n",
    "\n",
    "emp1 = Employee(\"Zara\", 2000)\n",
    "emp2 = Employee(\"Manni\", 5000)\n",
    "emp3 = Employee(\"asad\", 4000)\n",
    "\n",
    "emp1.displayEmployee()\n",
    "emp2.displayEmployee()\n",
    "emp3.displayEmployee()\n",
    "\n",
    "\n",
    "Employee.empCount"
   ]
  },
  {
   "cell_type": "code",
   "execution_count": null,
   "metadata": {},
   "outputs": [],
   "source": []
  },
  {
   "cell_type": "code",
   "execution_count": null,
   "metadata": {},
   "outputs": [],
   "source": []
  },
  {
   "cell_type": "code",
   "execution_count": null,
   "metadata": {},
   "outputs": [],
   "source": []
  },
  {
   "cell_type": "code",
   "execution_count": null,
   "metadata": {},
   "outputs": [],
   "source": [
    "#from geek site\n",
    "\n",
    "class Employee:\n",
    "    '''Common base class for all employees and description '''\n",
    "    empCount = 0\n",
    "\n",
    "    def __init__(self, name, salary):\n",
    "        self.name = name\n",
    "        self.salary = salary\n",
    "        Employee.empCount += 1\n",
    "\n",
    "    def displayCount(self):\n",
    "        print(\"Total Employee \" ,Employee.empCount)\n",
    "\n",
    "    def displayEmployee(self):\n",
    "        print(\"Name : \", self.name,  \", Salary: \", self.salary)\n",
    "        \n",
    "    def print_class_name(self):\n",
    "        print(\"CLASS NAME: \",self.__class__.__name__)\n",
    "        \n",
    "        \n",
    "\n",
    "emp1 = Employee(\"Zara\", 2000)\n",
    "emp2 = Employee(\"Manni\", 5000)\n",
    "emp3 = Employee(\"asad\", 4000)\n",
    "\n",
    "emp1.displayEmployee()\n",
    "emp2.displayEmployee()\n",
    "emp3.displayEmployee()\n",
    "\n",
    "print(\"Total Employee \" , Employee.empCount)\n",
    "\n",
    "emp1.age = 8\n",
    "\n",
    "print(hasattr(emp1, 'age'))\n",
    "\n",
    "setattr(emp1, 'age', 8) # emp1.age = 8\n",
    "\n",
    "print(emp1.name,emp1.salary,emp1.age)\n",
    "emp1.displayEmployee()\n",
    "\n",
    "\n",
    "emp1.name\n",
    "print(getattr(emp1, 'name'),getattr(emp1, 'salary'),getattr(emp1, 'age'))\n",
    "\n",
    "\n",
    "\n",
    "print(\"Employee.__doc__:\", Employee.__doc__)\n",
    "print(\"Employee.__name__:\", Employee.__name__)\n",
    "\n",
    "emp1.print_class_name()\n"
   ]
  },
  {
   "cell_type": "code",
   "execution_count": null,
   "metadata": {},
   "outputs": [],
   "source": []
  },
  {
   "cell_type": "code",
   "execution_count": null,
   "metadata": {},
   "outputs": [],
   "source": []
  }
 ],
 "metadata": {
  "kernelspec": {
   "display_name": "Python 3 (ipykernel)",
   "language": "python",
   "name": "python3"
  },
  "language_info": {
   "codemirror_mode": {
    "name": "ipython",
    "version": 3
   },
   "file_extension": ".py",
   "mimetype": "text/x-python",
   "name": "python",
   "nbconvert_exporter": "python",
   "pygments_lexer": "ipython3",
   "version": "3.8.7"
  }
 },
 "nbformat": 4,
 "nbformat_minor": 4
}
