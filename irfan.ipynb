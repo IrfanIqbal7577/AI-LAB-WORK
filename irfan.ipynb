{
 "cells": [
  {
   "cell_type": "code",
   "execution_count": 1,
   "metadata": {},
   "outputs": [
    {
     "name": "stdout",
     "output_type": "stream",
     "text": [
      "['naveed', 'amir', 'shakeela', 'Pdju']\n",
      "['Al34i', 'JU6I', '8K1i', 'amiQ2a', 'O36']\n",
      "['naveed==> w_len 6==> upper_len0==> lower_len6', 'amir==> w_len 4==> upper_len0==> lower_len10', 'shakeela==> w_len 8==> upper_len0==> lower_len18', 'Pdju==> w_len 4==> upper_len1==> lower_len21']\n"
     ]
    }
   ],
   "source": [
    "list_raw=[('Al34i','naveed'),('amir','Y7*U2'),('JU6I','8K1i'),('shakeela','amiQ2a'),('Pdju','O36')]\n",
    "list_alpha=[]\n",
    "for a in list_raw:\n",
    "    for a in a:\n",
    "        if a.isalpha():\n",
    "\n",
    "            list_alpha.append(a)\n",
    "\n",
    "list_digit=[]\n",
    "\n",
    "for a in list_raw:\n",
    "    for a in a:\n",
    "         if a.isnumeric():\n",
    "             list_digit.append(a)\n",
    "\n",
    "\n",
    "\n",
    "list_mix=[]\n",
    "\n",
    "for a in list_raw:\n",
    "    for a in a:\n",
    "        if a.isalnum() and a.isnumeric()==False and a.isalpha()==False:\n",
    "             list_mix.append(a)\n",
    "\n",
    "print(list_alpha)\n",
    "\n",
    "print(list_mix)\n",
    "\n",
    "\n",
    "s='aeiouAEIOU'\n",
    "v=[]\n",
    "NameStrin=\"\"\n",
    "count=0\n",
    "countU=0\n",
    "countL=0\n",
    "for words in list_alpha : \n",
    "    for word in words:\n",
    "       \n",
    "        if word.upper()==word:\n",
    "            countU+=1\n",
    "\n",
    "        if word.lower()==word:\n",
    "            countL+=1   \n",
    "        if word in s:\n",
    "            count=count+1\n",
    "    v.append(words+\"==> w_len \"+str(len(words))+\"==> upper_len\"+str(countU)+\"==> lower_len\"+str(countL))\n",
    "    count=0\n",
    "\n",
    "print(v)"
   ]
  },
  {
   "cell_type": "code",
   "execution_count": null,
   "metadata": {},
   "outputs": [],
   "source": [
    "import playsound as ps\n",
    "ps.playsound(r\"C:\\Users\\Mr.Irfan Iqbal\\OneDrive\\Desktop\\Doorie House Mix.mp3\")\n",
    "\n",
    "ps.close()"
   ]
  },
  {
   "cell_type": "code",
   "execution_count": null,
   "metadata": {},
   "outputs": [],
   "source": [
    "ps.close()"
   ]
  },
  {
   "cell_type": "code",
   "execution_count": null,
   "metadata": {},
   "outputs": [],
   "source": []
  }
 ],
 "metadata": {
  "kernelspec": {
   "display_name": "Python 3 (ipykernel)",
   "language": "python",
   "name": "python3"
  },
  "language_info": {
   "codemirror_mode": {
    "name": "ipython",
    "version": 3
   },
   "file_extension": ".py",
   "mimetype": "text/x-python",
   "name": "python",
   "nbconvert_exporter": "python",
   "pygments_lexer": "ipython3",
   "version": "3.8.7"
  }
 },
 "nbformat": 4,
 "nbformat_minor": 4
}
