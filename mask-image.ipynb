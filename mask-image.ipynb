{
 "cells": [
  {
   "cell_type": "code",
   "execution_count": 1,
   "id": "e65c8a1a-d8ef-4500-9a2b-72aaffb48815",
   "metadata": {},
   "outputs": [],
   "source": [
    "from tensorflow.keras.applications.mobilenet_v2 import preprocess_input\n",
    "from tensorflow.keras.preprocessing.image import img_to_array\n",
    "from tensorflow.keras.models import load_model\n",
    "import numpy as np\n",
    "import cv2\n",
    "import os"
   ]
  },
  {
   "cell_type": "code",
   "execution_count": 2,
   "id": "85da18da-a79e-4fed-b7f7-74727c148b7f",
   "metadata": {},
   "outputs": [],
   "source": [
    "prototxtPath=os.path.sep.join([r'D:\\6th Semester\\AI\\lab work\\Mask-Detection-and-Recognition-using-Deep-Learning-Keras','deploy.prototxt'])\n",
    "weightsPath=os.path.sep.join([r'D:\\6th Semester\\AI\\lab work\\Mask-Detection-and-Recognition-using-Deep-Learning-Keras','res10_300x300_ssd_iter_140000.caffemodel'])\n",
    "\n",
    "\n",
    "\n",
    "# prototxtPath=os.path.sep.join([r'D:\\6th Semester\\AI\\lab work\\Real-Time-Face-Mask-Detection-OpenCV-Python-2\\Real-Time Face Mask Detection OpenCV Python\\face_detector','deploy.prototxt'])\n",
    "# weightsPath=os.path.sep.join([r'D:\\6th Semester\\AI\\lab work\\Real-Time-Face-Mask-Detection-OpenCV-Python-2\\Real-Time Face Mask Detection OpenCV Python\\face_detector','res10_300x300_ssd_iter_140000.caffemodel'])\n"
   ]
  },
  {
   "cell_type": "code",
   "execution_count": 3,
   "id": "d5a53258-b091-40cd-a080-47a960008184",
   "metadata": {},
   "outputs": [],
   "source": [
    "net=cv2.dnn.readNet(prototxtPath,weightsPath)"
   ]
  },
  {
   "cell_type": "code",
   "execution_count": 4,
   "id": "67d0a24a-9425-4079-8ed4-baa7a0fe871d",
   "metadata": {},
   "outputs": [],
   "source": [
    "model=load_model(r'D:\\6th Semester\\AI\\lab work\\Mask-Detection-and-Recognition-using-Deep-Learning-Keras\\mask.model')\n",
    "\n",
    "# model=load_model(r'D:\\6th Semester\\AI\\lab work\\Real-Time-Face-Mask-Detection-OpenCV-Python-2\\Real-Time Face Mask Detection OpenCV Python\\face_detector')\n"
   ]
  },
  {
   "cell_type": "code",
   "execution_count": 5,
   "id": "eb2431c5-3f87-4594-b102-32c7f3d61403",
   "metadata": {},
   "outputs": [],
   "source": [
    "image=cv2.imread(r'D:\\6th Semester\\AI\\lab work\\Mask-Detection-and-Recognition-using-Deep-Learning-Keras\\example_01.png')"
   ]
  },
  {
   "cell_type": "code",
   "execution_count": 6,
   "id": "38e5c0f1-81de-408d-a582-7721109f5a37",
   "metadata": {
    "tags": []
   },
   "outputs": [
    {
     "data": {
      "text/plain": [
       "array([[[186, 183, 145],\n",
       "        [186, 184, 144],\n",
       "        [186, 184, 144],\n",
       "        ...,\n",
       "        [223, 220, 215],\n",
       "        [223, 220, 215],\n",
       "        [223, 220, 215]],\n",
       "\n",
       "       [[184, 183, 145],\n",
       "        [184, 183, 145],\n",
       "        [184, 183, 145],\n",
       "        ...,\n",
       "        [223, 220, 215],\n",
       "        [223, 220, 215],\n",
       "        [223, 220, 215]],\n",
       "\n",
       "       [[182, 181, 146],\n",
       "        [182, 181, 146],\n",
       "        [183, 182, 144],\n",
       "        ...,\n",
       "        [223, 220, 215],\n",
       "        [223, 220, 215],\n",
       "        [223, 220, 215]],\n",
       "\n",
       "       ...,\n",
       "\n",
       "       [[ 90,  87,  77],\n",
       "        [ 90,  87,  77],\n",
       "        [ 91,  88,  78],\n",
       "        ...,\n",
       "        [106, 102,  96],\n",
       "        [106, 102,  96],\n",
       "        [106, 102,  96]],\n",
       "\n",
       "       [[ 90,  87,  77],\n",
       "        [ 91,  88,  78],\n",
       "        [ 91,  88,  78],\n",
       "        ...,\n",
       "        [105, 101,  95],\n",
       "        [105, 101,  95],\n",
       "        [105, 101,  95]],\n",
       "\n",
       "       [[ 90,  87,  77],\n",
       "        [ 91,  88,  78],\n",
       "        [ 91,  88,  78],\n",
       "        ...,\n",
       "        [104, 100,  94],\n",
       "        [104, 100,  94],\n",
       "        [104, 100,  94]]], dtype=uint8)"
      ]
     },
     "execution_count": 6,
     "metadata": {},
     "output_type": "execute_result"
    }
   ],
   "source": [
    "image"
   ]
  },
  {
   "cell_type": "code",
   "execution_count": 7,
   "id": "93170c0b-d2c5-4b99-850e-4a538b0d5673",
   "metadata": {},
   "outputs": [],
   "source": [
    "(h,w)=image.shape[:2]"
   ]
  },
  {
   "cell_type": "code",
   "execution_count": 8,
   "id": "4021ec89-14b3-4237-9928-cd0402078565",
   "metadata": {},
   "outputs": [
    {
     "data": {
      "text/plain": [
       "(500, 600)"
      ]
     },
     "execution_count": 8,
     "metadata": {},
     "output_type": "execute_result"
    }
   ],
   "source": [
    "(h,w)"
   ]
  },
  {
   "cell_type": "code",
   "execution_count": 9,
   "id": "804155e6-e527-4912-a915-9c85773ada36",
   "metadata": {},
   "outputs": [],
   "source": [
    "blob=cv2.dnn.blobFromImage(image,1.0,(300,300),(104.0,177.0,123.0))"
   ]
  },
  {
   "cell_type": "code",
   "execution_count": 10,
   "id": "c9c541d1-88c8-4243-bea5-6e40d216afcb",
   "metadata": {
    "tags": []
   },
   "outputs": [
    {
     "data": {
      "text/plain": [
       "array([[[[ 81.,  81.,  76., ..., 119., 119., 119.],\n",
       "         [ 78.,  79.,  81., ..., 119., 119., 119.],\n",
       "         [ 68.,  70.,  75., ..., 118., 118., 118.],\n",
       "         ...,\n",
       "         [-13., -13., -11., ...,  -1.,   1.,   2.],\n",
       "         [-14., -13., -15., ...,   0.,   2.,   2.],\n",
       "         [-14., -13., -14., ...,  -2.,   0.,   0.]],\n",
       "\n",
       "        [[  6.,   7.,   1., ...,  43.,  43.,  43.],\n",
       "         [  4.,   5.,   6., ...,  43.,  43.,  43.],\n",
       "         [ -5.,  -2.,   0., ...,  42.,  42.,  42.],\n",
       "         ...,\n",
       "         [-89., -89., -86., ..., -76., -76., -74.],\n",
       "         [-90., -89., -90., ..., -74., -75., -75.],\n",
       "         [-90., -89., -90., ..., -76., -77., -77.]],\n",
       "\n",
       "        [[ 22.,  21.,  13., ...,  92.,  92.,  92.],\n",
       "         [ 23.,  21.,  20., ...,  92.,  92.,  92.],\n",
       "         [ 18.,  19.,  16., ...,  91.,  91.,  91.],\n",
       "         ...,\n",
       "         [-45., -45., -42., ..., -33., -28., -26.],\n",
       "         [-46., -45., -46., ..., -33., -27., -27.],\n",
       "         [-46., -45., -45., ..., -35., -29., -29.]]]], dtype=float32)"
      ]
     },
     "execution_count": 10,
     "metadata": {},
     "output_type": "execute_result"
    }
   ],
   "source": [
    "blob"
   ]
  },
  {
   "cell_type": "code",
   "execution_count": 11,
   "id": "fe7bf923-f77e-402d-bbfb-5a2768350a25",
   "metadata": {},
   "outputs": [
    {
     "data": {
      "text/plain": [
       "(1, 3, 300, 300)"
      ]
     },
     "execution_count": 11,
     "metadata": {},
     "output_type": "execute_result"
    }
   ],
   "source": [
    "blob.shape"
   ]
  },
  {
   "cell_type": "code",
   "execution_count": 12,
   "id": "cc7dbec7-ad67-43ee-bd7c-7fef798de965",
   "metadata": {},
   "outputs": [],
   "source": [
    "net.setInput(blob)\n",
    "detections=net.forward()"
   ]
  },
  {
   "cell_type": "code",
   "execution_count": 13,
   "id": "a28306d0-709a-4759-b3d1-a665b5b64c4d",
   "metadata": {},
   "outputs": [
    {
     "data": {
      "text/plain": [
       "array([[[[0.        , 1.        , 0.9984427 , ..., 0.12488028,\n",
       "          0.6709176 , 0.3542412 ],\n",
       "         [0.        , 1.        , 0.12920395, ..., 3.9990287 ,\n",
       "          4.8382664 , 4.984081  ],\n",
       "         [0.        , 1.        , 0.12446587, ..., 3.994579  ,\n",
       "          0.85450625, 4.978922  ],\n",
       "         ...,\n",
       "         [0.        , 0.        , 0.        , ..., 0.        ,\n",
       "          0.        , 0.        ],\n",
       "         [0.        , 0.        , 0.        , ..., 0.        ,\n",
       "          0.        , 0.        ],\n",
       "         [0.        , 0.        , 0.        , ..., 0.        ,\n",
       "          0.        , 0.        ]]]], dtype=float32)"
      ]
     },
     "execution_count": 13,
     "metadata": {},
     "output_type": "execute_result"
    }
   ],
   "source": [
    "detections"
   ]
  },
  {
   "cell_type": "code",
   "execution_count": null,
   "id": "cba31e98-c02e-4bb9-ab69-7c3a18c88701",
   "metadata": {},
   "outputs": [],
   "source": [
    "#loop over the detections\n",
    "for i in range(0,detections.shape[2]):\n",
    "    confidence=detections[0,0,i,2]\n",
    "    \n",
    "    \n",
    "    if confidence>0.5:\n",
    "        #we need the X,Y coordinates\n",
    "        box=detections[0,0,i,3:7]*np.array([w,h,w,h])\n",
    "        (startX,startY,endX,endY)=box.astype('int')\n",
    "        \n",
    "        #ensure the bounding boxes fall within the dimensions of the frame\n",
    "        (startX,startY)=(max(0,startX),max(0,startY))\n",
    "        (endX,endY)=(min(w-1,endX), min(h-1,endY))\n",
    "        \n",
    "        \n",
    "        #extract the face ROI, convert it from BGR to RGB channel, resize it to 224,224 and preprocess it\n",
    "        face=image[startY:endY, startX:endX]\n",
    "        face=cv2.cvtColor(face,cv2.COLOR_BGR2RGB)\n",
    "        face=cv2.resize(face,(224,224))\n",
    "        face=img_to_array(face)\n",
    "        face=preprocess_input(face)\n",
    "        face=np.expand_dims(face,axis=0)\n",
    "        \n",
    "        (mask,withoutMask)=model.predict(face)[0]\n",
    "        \n",
    "        #determine the class label and color we will use to draw the bounding box and text\n",
    "        label='Mask' if mask>withoutMask else 'No Mask'\n",
    "        color=(0,255,0) if label=='Mask' else (0,0,255)\n",
    "        \n",
    "        #include the probability in the label\n",
    "        label=\"{}: {:.2f}%\".format(label,max(mask,withoutMask)*100)\n",
    "        \n",
    "        #display the label and bounding boxes\n",
    "        cv2.putText(image,label,(startX,startY-10),cv2.FONT_HERSHEY_SIMPLEX,0.45,color,2)\n",
    "        cv2.rectangle(image,(startX,startY),(endX,endY),color,2)\n",
    "        \n",
    "        \n",
    "        \n",
    "cv2.imshow(\"OutPut\",image)\n",
    "cv2.waitKey(0)\n",
    "cv2.destroyAllWindows()"
   ]
  },
  {
   "cell_type": "code",
   "execution_count": null,
   "id": "b528a902-3b53-4539-87c5-147349067970",
   "metadata": {},
   "outputs": [],
   "source": []
  },
  {
   "cell_type": "code",
   "execution_count": null,
   "id": "bc8a8b4b-bc8f-45bb-b47f-0b5a676f8e99",
   "metadata": {},
   "outputs": [],
   "source": []
  },
  {
   "cell_type": "code",
   "execution_count": null,
   "id": "c999927f-da6f-4221-a965-8bd9bec2316d",
   "metadata": {},
   "outputs": [],
   "source": []
  }
 ],
 "metadata": {
  "kernelspec": {
   "display_name": "Python 3 (ipykernel)",
   "language": "python",
   "name": "python3"
  },
  "language_info": {
   "codemirror_mode": {
    "name": "ipython",
    "version": 3
   },
   "file_extension": ".py",
   "mimetype": "text/x-python",
   "name": "python",
   "nbconvert_exporter": "python",
   "pygments_lexer": "ipython3",
   "version": "3.8.7"
  }
 },
 "nbformat": 4,
 "nbformat_minor": 5
}
